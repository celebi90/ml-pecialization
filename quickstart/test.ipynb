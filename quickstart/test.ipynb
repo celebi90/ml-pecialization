{
 "cells": [
  {
   "cell_type": "code",
   "execution_count": 1,
   "metadata": {},
   "outputs": [
    {
     "name": "stdout",
     "output_type": "stream",
     "text": [
      "tensor([[0.5924, 0.6916, 0.6900],\n",
      "        [0.2924, 0.7228, 0.9020],\n",
      "        [0.0452, 0.5412, 0.5678],\n",
      "        [0.6437, 0.3587, 0.6828],\n",
      "        [0.0196, 0.1315, 0.5471]])\n"
     ]
    }
   ],
   "source": [
    "# verification of torch setup\n",
    "import torch\n",
    "x = torch.rand(5, 3)\n",
    "print(x)"
   ]
  }
 ],
 "metadata": {
  "kernelspec": {
   "display_name": "pytorch",
   "language": "python",
   "name": "python3"
  },
  "language_info": {
   "codemirror_mode": {
    "name": "ipython",
    "version": 3
   },
   "file_extension": ".py",
   "mimetype": "text/x-python",
   "name": "python",
   "nbconvert_exporter": "python",
   "pygments_lexer": "ipython3",
   "version": "3.11.7"
  }
 },
 "nbformat": 4,
 "nbformat_minor": 2
}
