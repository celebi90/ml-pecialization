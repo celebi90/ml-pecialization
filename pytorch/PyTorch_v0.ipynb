{
  "nbformat": 4,
  "nbformat_minor": 0,
  "metadata": {
    "colab": {
      "provenance": []
    },
    "kernelspec": {
      "name": "python3",
      "display_name": "Python 3"
    },
    "language_info": {
      "name": "python"
    }
  },
  "cells": [
    {
      "cell_type": "code",
      "execution_count": 2,
      "metadata": {
        "colab": {
          "base_uri": "https://localhost:8080/"
        },
        "id": "Dc112uycRi-C",
        "outputId": "3baf0111-d52a-4749-eb38-5f5287eabee4"
      },
      "outputs": [
        {
          "output_type": "stream",
          "name": "stdout",
          "text": [
            "2.1.0+cu121\n",
            "cuda = True\n"
          ]
        }
      ],
      "source": [
        "# version確認\n",
        "import torch\n",
        "print(torch.__version__)\n",
        "print(f'cuda = {torch.cuda.is_available()}')"
      ]
    },
    {
      "cell_type": "code",
      "source": [
        "# create some experimental tensor\n",
        "\n",
        "x_s = torch.empty(1)\n",
        "print(x_s)\n",
        "x_v = torch.empty(2) # 2 and more\n",
        "print(x_v)\n",
        "x_m = torch.empty(2,3) # 2 times 3 element vector\n",
        "print(x_m)\n",
        "x_mm = torch.empty(2,3,4) # 2 times 3x4 matrix, 2 times ( 3 times 4 element vector)\n",
        "print(x_mm)"
      ],
      "metadata": {
        "colab": {
          "base_uri": "https://localhost:8080/"
        },
        "id": "5cPJuIaHqN2r",
        "outputId": "0fa821f4-439c-4cc8-a739-3d60bbdca2de"
      },
      "execution_count": 11,
      "outputs": [
        {
          "output_type": "stream",
          "name": "stdout",
          "text": [
            "tensor([-5.9474e+28])\n",
            "tensor([-1.6908e+00,  4.3164e-41])\n",
            "tensor([[-6.0448e+28,  3.2541e-41, -5.9619e+28],\n",
            "        [ 3.2541e-41,         nan,         nan]])\n",
            "tensor([[[-5.9582e+28,  3.2541e-41, -5.9471e+28,  3.2541e-41],\n",
            "         [ 8.9683e-44,  0.0000e+00,  1.1210e-43,  0.0000e+00],\n",
            "         [ 6.8708e+02,  3.2537e-41,  1.5766e-19,  1.4585e-19]],\n",
            "\n",
            "        [[ 7.1856e+22,  1.8609e+34,  1.8179e+31,  1.8524e+28],\n",
            "         [ 1.5766e-19,  1.4610e-19,  7.3159e+34,  1.6634e+22],\n",
            "         [ 4.5100e+16,  4.4972e-41,  1.3593e-43,  0.0000e+00]]])\n"
          ]
        }
      ]
    },
    {
      "cell_type": "code",
      "source": [
        "# random matrix, vecor creation with tensor\n",
        "rand_m = torch.rand(5,3) # 5 times 3 element vector\n",
        "print(rand_m)\n",
        "\n",
        "zero_v = torch.zeros(5,3) # and torch.ones(xxx)\n",
        "print(zero_v)\n"
      ],
      "metadata": {
        "colab": {
          "base_uri": "https://localhost:8080/"
        },
        "id": "b4s_GlkVyFk8",
        "outputId": "39faeb82-4603-4420-9cf3-aa6d8c9d0ffd"
      },
      "execution_count": 13,
      "outputs": [
        {
          "output_type": "stream",
          "name": "stdout",
          "text": [
            "tensor([[0.9206, 0.3227, 0.2499],\n",
            "        [0.5306, 0.4537, 0.6692],\n",
            "        [0.1897, 0.7861, 0.2111],\n",
            "        [0.2391, 0.0385, 0.2829],\n",
            "        [0.6435, 0.6727, 0.0656]])\n",
            "tensor([[0., 0., 0.],\n",
            "        [0., 0., 0.],\n",
            "        [0., 0., 0.],\n",
            "        [0., 0., 0.],\n",
            "        [0., 0., 0.]])\n"
          ]
        }
      ]
    },
    {
      "cell_type": "code",
      "source": [
        "# there is size and dimention feature for getting information about tensor attributes\n",
        "import torch\n",
        "\n",
        "rand_m = torch.rand(2,6)\n",
        "ones_mm = torch.ones(4,2,3)\n",
        "\n",
        "print(f'size of vector: {rand_m.size()}')\n",
        "print(f'dim of mm: {ones_mm.shape}') # this shape also use with cv2 frames (like 1080 1920 3 return value)"
      ],
      "metadata": {
        "colab": {
          "base_uri": "https://localhost:8080/"
        },
        "id": "L5gBch8GzBV5",
        "outputId": "d91d88bf-e9bf-421e-e174-9a2ca99eedc1"
      },
      "execution_count": 2,
      "outputs": [
        {
          "output_type": "stream",
          "name": "stdout",
          "text": [
            "size of vector: torch.Size([2, 6])\n",
            "dim of mm: torch.Size([4, 2, 3])\n"
          ]
        }
      ]
    }
  ]
}