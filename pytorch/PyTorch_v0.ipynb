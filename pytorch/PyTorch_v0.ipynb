{
  "nbformat": 4,
  "nbformat_minor": 0,
  "metadata": {
    "colab": {
      "provenance": []
    },
    "kernelspec": {
      "name": "python3",
      "display_name": "Python 3"
    },
    "language_info": {
      "name": "python"
    }
  },
  "cells": [
    {
      "cell_type": "code",
      "execution_count": null,
      "metadata": {
        "colab": {
          "base_uri": "https://localhost:8080/"
        },
        "id": "Dc112uycRi-C",
        "outputId": "3baf0111-d52a-4749-eb38-5f5287eabee4"
      },
      "outputs": [
        {
          "output_type": "stream",
          "name": "stdout",
          "text": [
            "2.1.0+cu121\n",
            "cuda = True\n"
          ]
        }
      ],
      "source": [
        "# version確認\n",
        "import torch\n",
        "print(torch.__version__)\n",
        "print(f'cuda = {torch.cuda.is_available()}')"
      ]
    },
    {
      "cell_type": "code",
      "source": [
        "# create some experimental tensor\n",
        "\n",
        "x_s = torch.empty(1)\n",
        "print(x_s)\n",
        "x_v = torch.empty(2) # 2 and more\n",
        "print(x_v)\n",
        "x_m = torch.empty(2,3) # 2 times 3 element vector\n",
        "print(x_m)\n",
        "x_mm = torch.empty(2,3,4) # 2 times 3x4 matrix, 2 times ( 3 times 4 element vector)\n",
        "print(x_mm)"
      ],
      "metadata": {
        "colab": {
          "base_uri": "https://localhost:8080/"
        },
        "id": "5cPJuIaHqN2r",
        "outputId": "0fa821f4-439c-4cc8-a739-3d60bbdca2de"
      },
      "execution_count": null,
      "outputs": [
        {
          "output_type": "stream",
          "name": "stdout",
          "text": [
            "tensor([-5.9474e+28])\n",
            "tensor([-1.6908e+00,  4.3164e-41])\n",
            "tensor([[-6.0448e+28,  3.2541e-41, -5.9619e+28],\n",
            "        [ 3.2541e-41,         nan,         nan]])\n",
            "tensor([[[-5.9582e+28,  3.2541e-41, -5.9471e+28,  3.2541e-41],\n",
            "         [ 8.9683e-44,  0.0000e+00,  1.1210e-43,  0.0000e+00],\n",
            "         [ 6.8708e+02,  3.2537e-41,  1.5766e-19,  1.4585e-19]],\n",
            "\n",
            "        [[ 7.1856e+22,  1.8609e+34,  1.8179e+31,  1.8524e+28],\n",
            "         [ 1.5766e-19,  1.4610e-19,  7.3159e+34,  1.6634e+22],\n",
            "         [ 4.5100e+16,  4.4972e-41,  1.3593e-43,  0.0000e+00]]])\n"
          ]
        }
      ]
    },
    {
      "cell_type": "code",
      "source": [
        "# random matrix, vecor creation with tensor\n",
        "rand_m = torch.rand(5,3) # 5 times 3 element vector\n",
        "print(rand_m)\n",
        "\n",
        "zero_v = torch.zeros(5,3) # and torch.ones(xxx)\n",
        "print(zero_v)\n"
      ],
      "metadata": {
        "colab": {
          "base_uri": "https://localhost:8080/"
        },
        "id": "b4s_GlkVyFk8",
        "outputId": "4595f27a-1f44-4e71-8556-334814178197"
      },
      "execution_count": null,
      "outputs": [
        {
          "output_type": "stream",
          "name": "stdout",
          "text": [
            "tensor([[0.4740, 0.6766, 0.6660],\n",
            "        [0.4335, 0.9273, 0.4065],\n",
            "        [0.7552, 0.0750, 0.8497],\n",
            "        [0.8156, 0.1008, 0.2147],\n",
            "        [0.9143, 0.5890, 0.2020]])\n",
            "tensor([[0., 0., 0.],\n",
            "        [0., 0., 0.],\n",
            "        [0., 0., 0.],\n",
            "        [0., 0., 0.],\n",
            "        [0., 0., 0.]])\n",
            "torch.float32\n"
          ]
        }
      ]
    },
    {
      "cell_type": "code",
      "source": [
        "# there is size and dimention feature for getting information about tensor attributes\n",
        "import torch\n",
        "\n",
        "rand_m = torch.rand(2,6)\n",
        "ones_mm = torch.ones(4,2,3)\n",
        "\n",
        "print(f'size of vector: {rand_m.size()}')\n",
        "print(f'dim of mm: {ones_mm.shape}') # this shape also use with cv2 frames (like 1080 1920 3 return value)\n",
        "\n",
        "# checkout the data types -> tensor as default set to <torch.float32>\n",
        "print(rand_m.dtype)\n",
        "\n",
        "# if you want to change data type for your tensor, can define with parameeters\n",
        "ones_v_d16 = torch.ones(2,5, dtype=torch.float16)\n",
        "print(f'set f16 data type: {ones_v_d16.dtype}')\n",
        "\n",
        "# also when print new dtype tensor, shows its features\n",
        "print(ones_v_d16)\n",
        "\n"
      ],
      "metadata": {
        "colab": {
          "base_uri": "https://localhost:8080/"
        },
        "id": "L5gBch8GzBV5",
        "outputId": "6e2cb2d2-c014-4ca2-9eb7-6c65314a1bf0"
      },
      "execution_count": null,
      "outputs": [
        {
          "output_type": "stream",
          "name": "stdout",
          "text": [
            "size of vector: torch.Size([2, 6])\n",
            "dim of mm: torch.Size([4, 2, 3])\n",
            "torch.float32\n",
            "set f16 data type: torch.float16\n",
            "tensor([[1., 1., 1., 1., 1.],\n",
            "        [1., 1., 1., 1., 1.]], dtype=torch.float16)\n"
          ]
        }
      ]
    },
    {
      "cell_type": "code",
      "source": [
        "# data saving in the momory\n",
        "import torch\n",
        "import numpy\n",
        "\n",
        "a = numpy.ones(5)\n",
        "# print(a)\n",
        "\n",
        "b = torch.from_numpy(a)\n",
        "c = torch.tensor(a)\n",
        "\n",
        "a +=1\n",
        "print(a)\n",
        "print(b) #as seen, b not copied, just share same referance\n",
        "print(c)"
      ],
      "metadata": {
        "colab": {
          "base_uri": "https://localhost:8080/"
        },
        "id": "0gf8Sie3plNN",
        "outputId": "e7997e94-c317-48c0-cf77-b4b1e9707d8f"
      },
      "execution_count": null,
      "outputs": [
        {
          "output_type": "stream",
          "name": "stdout",
          "text": [
            "[2. 2. 2. 2. 2.]\n",
            "tensor([2., 2., 2., 2., 2.], dtype=torch.float64)\n",
            "tensor([1., 1., 1., 1., 1.], dtype=torch.float64)\n"
          ]
        }
      ]
    },
    {
      "cell_type": "code",
      "source": [
        "import torch\n",
        "\n",
        "dev = 'cuda' if torch.cuda.is_available() else 'cpu'\n",
        "device = torch.device(dev)\n",
        "\n",
        "print(device)\n",
        "\n",
        "# here, define tensor on GPU for faster process\n",
        "x = torch.rand(5,3).to(device)\n",
        "print(x) #device CUDA\n",
        "\n",
        "# the small optimization, directly created on GPU. Not created on CPU to move to GPU like above\n",
        "x_otherway = torch.rand(5,3, device=dev)\n",
        "print(f'\\n{x_otherway}')\n",
        "\n"
      ],
      "metadata": {
        "colab": {
          "base_uri": "https://localhost:8080/"
        },
        "id": "RyiVZf0OrMm4",
        "outputId": "cea6ec53-ea63-48cb-f47e-3305558c8bb1"
      },
      "execution_count": null,
      "outputs": [
        {
          "output_type": "stream",
          "name": "stdout",
          "text": [
            "cpu\n",
            "tensor([[0.8120, 0.3899, 0.9117],\n",
            "        [0.9053, 0.7682, 0.2854],\n",
            "        [0.7619, 0.1997, 0.4505],\n",
            "        [0.8914, 0.5881, 0.9842],\n",
            "        [0.1111, 0.9941, 0.7202]])\n",
            "\n",
            "tensor([[0.9059, 0.7016, 0.0740],\n",
            "        [0.4976, 0.1850, 0.8933],\n",
            "        [0.1836, 0.7645, 0.9476],\n",
            "        [0.2285, 0.4386, 0.1087],\n",
            "        [0.6299, 0.0541, 0.8538]])\n"
          ]
        }
      ]
    },
    {
      "cell_type": "code",
      "source": [],
      "metadata": {
        "id": "fQZNglA3udlM"
      },
      "execution_count": null,
      "outputs": []
    }
  ]
}